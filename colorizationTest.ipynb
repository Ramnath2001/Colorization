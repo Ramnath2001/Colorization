{
 "cells": [
  {
   "cell_type": "code",
   "execution_count": 1,
   "id": "warming-hebrew",
   "metadata": {},
   "outputs": [],
   "source": [
    "import keras\n",
    "from keras.preprocessing import image\n",
    "from keras.engine import Layer\n",
    "from keras.layers import Conv2D, Conv3D, UpSampling2D, InputLayer, Conv2DTranspose, Input, Reshape, merge, concatenate\n",
    "from keras.layers import Activation, Dense, Dropout, Flatten\n",
    "from keras.layers.normalization import BatchNormalization\n",
    "from keras.callbacks import TensorBoard\n",
    "from keras.models import Sequential, Model, load_model\n",
    "from keras.preprocessing.image import ImageDataGenerator, array_to_img, img_to_array, load_img\n",
    "from skimage.color import rgb2lab, lab2rgb, rgb2gray, gray2rgb\n",
    "from skimage.transform import resize\n",
    "from skimage.io import imsave\n",
    "from time import time\n",
    "import numpy as np\n",
    "import os\n",
    "import random\n",
    "import tensorflow as tf\n",
    "from PIL import Image, ImageFile"
   ]
  },
  {
   "cell_type": "code",
   "execution_count": 2,
   "id": "greek-moldova",
   "metadata": {},
   "outputs": [],
   "source": [
    "model = load_model('Downloads/colorizationModelVGG.hdf5')"
   ]
  },
  {
   "cell_type": "code",
   "execution_count": 3,
   "id": "primary-basketball",
   "metadata": {},
   "outputs": [
    {
     "name": "stdout",
     "output_type": "stream",
     "text": [
      "Model: \"sequential\"\n",
      "_________________________________________________________________\n",
      "Layer (type)                 Output Shape              Param #   \n",
      "=================================================================\n",
      "block1_conv1 (Conv2D)        (None, 224, 224, 64)      1792      \n",
      "_________________________________________________________________\n",
      "block1_conv2 (Conv2D)        (None, 224, 224, 64)      36928     \n",
      "_________________________________________________________________\n",
      "block1_pool (MaxPooling2D)   (None, 112, 112, 64)      0         \n",
      "_________________________________________________________________\n",
      "block2_conv1 (Conv2D)        (None, 112, 112, 128)     73856     \n",
      "_________________________________________________________________\n",
      "block2_conv2 (Conv2D)        (None, 112, 112, 128)     147584    \n",
      "_________________________________________________________________\n",
      "block2_pool (MaxPooling2D)   (None, 56, 56, 128)       0         \n",
      "_________________________________________________________________\n",
      "block3_conv1 (Conv2D)        (None, 56, 56, 256)       295168    \n",
      "_________________________________________________________________\n",
      "block3_conv2 (Conv2D)        (None, 56, 56, 256)       590080    \n",
      "_________________________________________________________________\n",
      "block3_conv3 (Conv2D)        (None, 56, 56, 256)       590080    \n",
      "_________________________________________________________________\n",
      "block3_pool (MaxPooling2D)   (None, 28, 28, 256)       0         \n",
      "_________________________________________________________________\n",
      "block4_conv1 (Conv2D)        (None, 28, 28, 512)       1180160   \n",
      "_________________________________________________________________\n",
      "block4_conv2 (Conv2D)        (None, 28, 28, 512)       2359808   \n",
      "_________________________________________________________________\n",
      "block4_conv3 (Conv2D)        (None, 28, 28, 512)       2359808   \n",
      "_________________________________________________________________\n",
      "block4_pool (MaxPooling2D)   (None, 14, 14, 512)       0         \n",
      "_________________________________________________________________\n",
      "block5_conv1 (Conv2D)        (None, 14, 14, 512)       2359808   \n",
      "_________________________________________________________________\n",
      "block5_conv2 (Conv2D)        (None, 14, 14, 512)       2359808   \n",
      "_________________________________________________________________\n",
      "block5_conv3 (Conv2D)        (None, 14, 14, 512)       2359808   \n",
      "_________________________________________________________________\n",
      "block5_pool (MaxPooling2D)   (None, 7, 7, 512)         0         \n",
      "=================================================================\n",
      "Total params: 14,714,688\n",
      "Trainable params: 14,714,688\n",
      "Non-trainable params: 0\n",
      "_________________________________________________________________\n"
     ]
    }
   ],
   "source": [
    "vggmodel = keras.applications.vgg16.VGG16()\n",
    "newmodel = Sequential() \n",
    "num = 0\n",
    "for i, layer in enumerate(vggmodel.layers):\n",
    "    if i<19:\n",
    "      newmodel.add(layer)\n",
    "newmodel.summary()\n",
    "for layer in newmodel.layers:\n",
    "  layer.trainable=False"
   ]
  },
  {
   "cell_type": "code",
   "execution_count": 6,
   "id": "intense-leeds",
   "metadata": {},
   "outputs": [
    {
     "name": "stdout",
     "output_type": "stream",
     "text": [
      "2016-06-27-black-white-photo-06.jpg\n",
      "22art2-1.jpg\n",
      "dia mirza.jpg\n",
      "elephant.jpg\n",
      "images (1).jfif\n",
      "images (2).jfif\n",
      "images.jfif\n",
      "lion.jpg\n",
      "main-qimg-52365feb99da5b9bce6ae216c18e6660.jfif\n",
      "matt_miller_embed-710x1066.jpg\n",
      "missing-you-black-white-16655.jpg\n",
      "p-364-jackanstey-03283-jj.jpg\n",
      "photo-1501059520966-c59141726d6c.jfif\n",
      "road.jpg\n",
      "xovk0byrmkcuvn0vjnyoxg.jpg\n",
      "15\n"
     ]
    }
   ],
   "source": [
    "from numpy import asarray\n",
    "L_part = []\n",
    "AB = []\n",
    "for image_name in os.listdir(\"Downloads/test/\"):\n",
    "    test_image = Image.open(\"Downloads/test/\"+image_name)\n",
    "    test_image = test_image.resize((224, 224))\n",
    "    test_image = asarray(test_image)\n",
    "    print(image_name)\n",
    "    try:\n",
    "        lab_test = rgb2lab(test_image)\n",
    "    except:\n",
    "        test_gray = gray2rgb(test_image)\n",
    "        lab_test = rgb2lab(test_gray)\n",
    "    lab_test = lab_test.astype('float32')\n",
    "    lab_test[:,:,0] /= 100\n",
    "    L_part.append(lab_test[:,:,0])\n",
    "    L = gray2rgb(lab_test[:,:,0])\n",
    "    L = gray2rgb(lab_test[:,:,0])\n",
    "    L = L.reshape((1,224,224,3))\n",
    "    vggpred = newmodel.predict(L)\n",
    "    ab = model.predict(vggpred)\n",
    "    ab *= 127\n",
    "    AB.append(ab)\n",
    "print(len(AB))"
   ]
  },
  {
   "cell_type": "code",
   "execution_count": 8,
   "id": "alpha-selling",
   "metadata": {},
   "outputs": [],
   "source": [
    "for i in range(len(AB)):\n",
    "    cur = np.zeros((224, 224, 3))\n",
    "    cur[:,:,0] = L_part[i]*100\n",
    "    cur[:,:,1:] = AB[i]\n",
    "    rgb = lab2rgb(cur)\n",
    "    rgb *= 255\n",
    "    rgb = rgb.astype('uint8')\n",
    "    imsave(\"Downloads/results3/result_vgg\"+str(i)+\".png\", rgb)"
   ]
  },
  {
   "cell_type": "code",
   "execution_count": null,
   "id": "blond-april",
   "metadata": {},
   "outputs": [],
   "source": []
  }
 ],
 "metadata": {
  "kernelspec": {
   "display_name": "Python 3",
   "language": "python",
   "name": "python3"
  },
  "language_info": {
   "codemirror_mode": {
    "name": "ipython",
    "version": 3
   },
   "file_extension": ".py",
   "mimetype": "text/x-python",
   "name": "python",
   "nbconvert_exporter": "python",
   "pygments_lexer": "ipython3",
   "version": "3.8.8"
  }
 },
 "nbformat": 4,
 "nbformat_minor": 5
}
